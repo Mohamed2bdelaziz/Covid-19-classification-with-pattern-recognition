{
 "cells": [
  {
   "cell_type": "code",
   "execution_count": 155,
   "id": "b26e695e-1fd6-4c0d-ac5f-ce9cec15683c",
   "metadata": {},
   "outputs": [],
   "source": [
    "import warnings\n",
    "warnings.filterwarnings(\"ignore\")\n",
    "\n",
    "import numpy as np\n",
    "import pandas as pd\n",
    "from sklearn.datasets import load_breast_cancer\n",
    "from sklearn.model_selection import train_test_split, cross_val_score, GridSearchCV\n",
    "from sklearn.preprocessing import StandardScaler\n",
    "from sklearn.metrics import accuracy_score, classification_report\n",
    "from sklearn.ensemble import GradientBoostingClassifier, RandomForestClassifier\n",
    "from sklearn.linear_model import LogisticRegression\n",
    "from sklearn.neighbors import KNeighborsClassifier\n",
    "from tqdm import tqdm\n",
    "\n",
    "import matplotlib.pyplot as plt\n",
    "import seaborn as sns"
   ]
  },
  {
   "cell_type": "code",
   "execution_count": 2,
   "id": "046af2de-b828-4678-ab64-43fbd2eb28c9",
   "metadata": {},
   "outputs": [
    {
     "name": "stdout",
     "output_type": "stream",
     "text": [
      "Warning: Looks like you're using an outdated API Version, please consider updating (server 1.6.14 / client 1.6.12)\n",
      "Dataset URL: https://www.kaggle.com/datasets/meirnizri/covid19-dataset\n",
      "License(s): CC0-1.0\n",
      "Downloading covid19-dataset.zip to R:\\FCAI\\PATTERN\\Project\n",
      "\n"
     ]
    },
    {
     "name": "stderr",
     "output_type": "stream",
     "text": [
      "\n",
      "  0%|          | 0.00/4.66M [00:00<?, ?B/s]\n",
      " 21%|██▏       | 1.00M/4.66M [00:02<00:09, 396kB/s]\n",
      " 43%|████▎     | 2.00M/4.66M [00:06<00:08, 316kB/s]\n",
      " 64%|██████▍   | 3.00M/4.66M [00:10<00:05, 297kB/s]\n",
      " 86%|████████▌ | 4.00M/4.66M [00:17<00:03, 212kB/s]\n",
      "100%|██████████| 4.66M/4.66M [00:22<00:00, 188kB/s]\n",
      "100%|██████████| 4.66M/4.66M [00:22<00:00, 221kB/s]\n"
     ]
    }
   ],
   "source": [
    "# load the data in a ziped file using kaggle api command\n",
    "! kaggle datasets download -d meirnizri/covid19-dataset"
   ]
  },
  {
   "cell_type": "code",
   "execution_count": null,
   "id": "87a22d6c-3270-418b-ba31-941537d43487",
   "metadata": {},
   "outputs": [],
   "source": [
    "# unziping loaded zip file\n",
    "! unzip /content/covid19-dataset.zip"
   ]
  },
  {
   "cell_type": "code",
   "execution_count": 69,
   "id": "57b861fb-fa10-47d2-9faa-3c6423357a0e",
   "metadata": {},
   "outputs": [
    {
     "data": {
      "text/html": [
       "<div>\n",
       "<style scoped>\n",
       "    .dataframe tbody tr th:only-of-type {\n",
       "        vertical-align: middle;\n",
       "    }\n",
       "\n",
       "    .dataframe tbody tr th {\n",
       "        vertical-align: top;\n",
       "    }\n",
       "\n",
       "    .dataframe thead th {\n",
       "        text-align: right;\n",
       "    }\n",
       "</style>\n",
       "<table border=\"1\" class=\"dataframe\">\n",
       "  <thead>\n",
       "    <tr style=\"text-align: right;\">\n",
       "      <th></th>\n",
       "      <th>USMER</th>\n",
       "      <th>MEDICAL_UNIT</th>\n",
       "      <th>SEX</th>\n",
       "      <th>PATIENT_TYPE</th>\n",
       "      <th>DATE_DIED</th>\n",
       "      <th>INTUBED</th>\n",
       "      <th>PNEUMONIA</th>\n",
       "      <th>AGE</th>\n",
       "      <th>PREGNANT</th>\n",
       "      <th>DIABETES</th>\n",
       "      <th>...</th>\n",
       "      <th>ASTHMA</th>\n",
       "      <th>INMSUPR</th>\n",
       "      <th>HIPERTENSION</th>\n",
       "      <th>OTHER_DISEASE</th>\n",
       "      <th>CARDIOVASCULAR</th>\n",
       "      <th>OBESITY</th>\n",
       "      <th>RENAL_CHRONIC</th>\n",
       "      <th>TOBACCO</th>\n",
       "      <th>CLASIFFICATION_FINAL</th>\n",
       "      <th>ICU</th>\n",
       "    </tr>\n",
       "  </thead>\n",
       "  <tbody>\n",
       "    <tr>\n",
       "      <th>454636</th>\n",
       "      <td>1</td>\n",
       "      <td>12</td>\n",
       "      <td>2</td>\n",
       "      <td>2</td>\n",
       "      <td>01/06/2020</td>\n",
       "      <td>2</td>\n",
       "      <td>1</td>\n",
       "      <td>53</td>\n",
       "      <td>97</td>\n",
       "      <td>2</td>\n",
       "      <td>...</td>\n",
       "      <td>2</td>\n",
       "      <td>2</td>\n",
       "      <td>1</td>\n",
       "      <td>2</td>\n",
       "      <td>2</td>\n",
       "      <td>2</td>\n",
       "      <td>2</td>\n",
       "      <td>2</td>\n",
       "      <td>3</td>\n",
       "      <td>2</td>\n",
       "    </tr>\n",
       "    <tr>\n",
       "      <th>626382</th>\n",
       "      <td>2</td>\n",
       "      <td>12</td>\n",
       "      <td>1</td>\n",
       "      <td>1</td>\n",
       "      <td>9999-99-99</td>\n",
       "      <td>97</td>\n",
       "      <td>2</td>\n",
       "      <td>51</td>\n",
       "      <td>2</td>\n",
       "      <td>2</td>\n",
       "      <td>...</td>\n",
       "      <td>2</td>\n",
       "      <td>2</td>\n",
       "      <td>2</td>\n",
       "      <td>2</td>\n",
       "      <td>2</td>\n",
       "      <td>2</td>\n",
       "      <td>2</td>\n",
       "      <td>2</td>\n",
       "      <td>3</td>\n",
       "      <td>97</td>\n",
       "    </tr>\n",
       "    <tr>\n",
       "      <th>239287</th>\n",
       "      <td>1</td>\n",
       "      <td>4</td>\n",
       "      <td>1</td>\n",
       "      <td>1</td>\n",
       "      <td>9999-99-99</td>\n",
       "      <td>97</td>\n",
       "      <td>2</td>\n",
       "      <td>40</td>\n",
       "      <td>2</td>\n",
       "      <td>2</td>\n",
       "      <td>...</td>\n",
       "      <td>2</td>\n",
       "      <td>2</td>\n",
       "      <td>2</td>\n",
       "      <td>2</td>\n",
       "      <td>2</td>\n",
       "      <td>2</td>\n",
       "      <td>2</td>\n",
       "      <td>2</td>\n",
       "      <td>7</td>\n",
       "      <td>97</td>\n",
       "    </tr>\n",
       "    <tr>\n",
       "      <th>888694</th>\n",
       "      <td>1</td>\n",
       "      <td>12</td>\n",
       "      <td>2</td>\n",
       "      <td>1</td>\n",
       "      <td>9999-99-99</td>\n",
       "      <td>97</td>\n",
       "      <td>2</td>\n",
       "      <td>60</td>\n",
       "      <td>97</td>\n",
       "      <td>2</td>\n",
       "      <td>...</td>\n",
       "      <td>2</td>\n",
       "      <td>2</td>\n",
       "      <td>2</td>\n",
       "      <td>2</td>\n",
       "      <td>2</td>\n",
       "      <td>2</td>\n",
       "      <td>2</td>\n",
       "      <td>1</td>\n",
       "      <td>7</td>\n",
       "      <td>97</td>\n",
       "    </tr>\n",
       "    <tr>\n",
       "      <th>628676</th>\n",
       "      <td>2</td>\n",
       "      <td>12</td>\n",
       "      <td>2</td>\n",
       "      <td>1</td>\n",
       "      <td>9999-99-99</td>\n",
       "      <td>97</td>\n",
       "      <td>2</td>\n",
       "      <td>35</td>\n",
       "      <td>97</td>\n",
       "      <td>2</td>\n",
       "      <td>...</td>\n",
       "      <td>2</td>\n",
       "      <td>2</td>\n",
       "      <td>2</td>\n",
       "      <td>2</td>\n",
       "      <td>2</td>\n",
       "      <td>2</td>\n",
       "      <td>2</td>\n",
       "      <td>2</td>\n",
       "      <td>3</td>\n",
       "      <td>97</td>\n",
       "    </tr>\n",
       "    <tr>\n",
       "      <th>889089</th>\n",
       "      <td>2</td>\n",
       "      <td>12</td>\n",
       "      <td>2</td>\n",
       "      <td>1</td>\n",
       "      <td>9999-99-99</td>\n",
       "      <td>97</td>\n",
       "      <td>2</td>\n",
       "      <td>59</td>\n",
       "      <td>97</td>\n",
       "      <td>2</td>\n",
       "      <td>...</td>\n",
       "      <td>2</td>\n",
       "      <td>2</td>\n",
       "      <td>2</td>\n",
       "      <td>2</td>\n",
       "      <td>2</td>\n",
       "      <td>2</td>\n",
       "      <td>2</td>\n",
       "      <td>2</td>\n",
       "      <td>7</td>\n",
       "      <td>97</td>\n",
       "    </tr>\n",
       "    <tr>\n",
       "      <th>1002806</th>\n",
       "      <td>2</td>\n",
       "      <td>12</td>\n",
       "      <td>2</td>\n",
       "      <td>1</td>\n",
       "      <td>9999-99-99</td>\n",
       "      <td>97</td>\n",
       "      <td>2</td>\n",
       "      <td>34</td>\n",
       "      <td>97</td>\n",
       "      <td>2</td>\n",
       "      <td>...</td>\n",
       "      <td>2</td>\n",
       "      <td>2</td>\n",
       "      <td>2</td>\n",
       "      <td>2</td>\n",
       "      <td>2</td>\n",
       "      <td>2</td>\n",
       "      <td>2</td>\n",
       "      <td>2</td>\n",
       "      <td>7</td>\n",
       "      <td>97</td>\n",
       "    </tr>\n",
       "    <tr>\n",
       "      <th>235903</th>\n",
       "      <td>2</td>\n",
       "      <td>4</td>\n",
       "      <td>2</td>\n",
       "      <td>1</td>\n",
       "      <td>9999-99-99</td>\n",
       "      <td>97</td>\n",
       "      <td>2</td>\n",
       "      <td>32</td>\n",
       "      <td>97</td>\n",
       "      <td>2</td>\n",
       "      <td>...</td>\n",
       "      <td>2</td>\n",
       "      <td>2</td>\n",
       "      <td>1</td>\n",
       "      <td>2</td>\n",
       "      <td>2</td>\n",
       "      <td>2</td>\n",
       "      <td>2</td>\n",
       "      <td>2</td>\n",
       "      <td>7</td>\n",
       "      <td>97</td>\n",
       "    </tr>\n",
       "  </tbody>\n",
       "</table>\n",
       "<p>8 rows × 21 columns</p>\n",
       "</div>"
      ],
      "text/plain": [
       "         USMER  MEDICAL_UNIT  SEX  PATIENT_TYPE   DATE_DIED  INTUBED   \n",
       "454636       1            12    2             2  01/06/2020        2  \\\n",
       "626382       2            12    1             1  9999-99-99       97   \n",
       "239287       1             4    1             1  9999-99-99       97   \n",
       "888694       1            12    2             1  9999-99-99       97   \n",
       "628676       2            12    2             1  9999-99-99       97   \n",
       "889089       2            12    2             1  9999-99-99       97   \n",
       "1002806      2            12    2             1  9999-99-99       97   \n",
       "235903       2             4    2             1  9999-99-99       97   \n",
       "\n",
       "         PNEUMONIA  AGE  PREGNANT  DIABETES  ...  ASTHMA  INMSUPR   \n",
       "454636           1   53        97         2  ...       2        2  \\\n",
       "626382           2   51         2         2  ...       2        2   \n",
       "239287           2   40         2         2  ...       2        2   \n",
       "888694           2   60        97         2  ...       2        2   \n",
       "628676           2   35        97         2  ...       2        2   \n",
       "889089           2   59        97         2  ...       2        2   \n",
       "1002806          2   34        97         2  ...       2        2   \n",
       "235903           2   32        97         2  ...       2        2   \n",
       "\n",
       "         HIPERTENSION  OTHER_DISEASE  CARDIOVASCULAR  OBESITY  RENAL_CHRONIC   \n",
       "454636              1              2               2        2              2  \\\n",
       "626382              2              2               2        2              2   \n",
       "239287              2              2               2        2              2   \n",
       "888694              2              2               2        2              2   \n",
       "628676              2              2               2        2              2   \n",
       "889089              2              2               2        2              2   \n",
       "1002806             2              2               2        2              2   \n",
       "235903              1              2               2        2              2   \n",
       "\n",
       "         TOBACCO  CLASIFFICATION_FINAL  ICU  \n",
       "454636         2                     3    2  \n",
       "626382         2                     3   97  \n",
       "239287         2                     7   97  \n",
       "888694         1                     7   97  \n",
       "628676         2                     3   97  \n",
       "889089         2                     7   97  \n",
       "1002806        2                     7   97  \n",
       "235903         2                     7   97  \n",
       "\n",
       "[8 rows x 21 columns]"
      ]
     },
     "execution_count": 69,
     "metadata": {},
     "output_type": "execute_result"
    }
   ],
   "source": [
    "# read data from the csv file using pandas\n",
    "data_path = 'covid19-dataset\\Covid Data.csv' # here's the data path\n",
    "df = pd.read_csv(data_path) # load the data into a DataFrame\n",
    "\n",
    "# showing random 8 samples from the data\n",
    "df.sample(8)"
   ]
  },
  {
   "cell_type": "code",
   "execution_count": 8,
   "id": "e9c10ae3-5136-4702-884e-878d6be69745",
   "metadata": {
    "colab": {
     "base_uri": "https://localhost:8080/"
    },
    "id": "oIJvVYjyXRUR",
    "outputId": "34b438e1-01b0-4461-9a45-dc4ba12cb314"
   },
   "outputs": [
    {
     "data": {
      "text/plain": [
       "(1048575, 21)"
      ]
     },
     "execution_count": 8,
     "metadata": {},
     "output_type": "execute_result"
    }
   ],
   "source": [
    "df.shape"
   ]
  },
  {
   "cell_type": "markdown",
   "id": "61712ff4-8a81-4c35-a74a-f24ba397e92e",
   "metadata": {
    "id": "gyaHVK24jsRb"
   },
   "source": [
    "## Check duplicate values"
   ]
  },
  {
   "cell_type": "code",
   "execution_count": 9,
   "id": "7d4b9de6-defb-4fde-bc52-0f4ea9caf8d9",
   "metadata": {
    "colab": {
     "base_uri": "https://localhost:8080/"
    },
    "id": "gBhXLU_hjr9t",
    "outputId": "45df69be-d91d-446f-d09d-214ed5ccf037"
   },
   "outputs": [
    {
     "name": "stdout",
     "output_type": "stream",
     "text": [
      "Column USMER has 2 unique values\n",
      "Column MEDICAL_UNIT has 13 unique values\n",
      "Column SEX has 2 unique values\n",
      "Column PATIENT_TYPE has 2 unique values\n",
      "Column DATE_DIED has 401 unique values\n",
      "Column INTUBED has 4 unique values\n",
      "Column PNEUMONIA has 3 unique values\n",
      "Column AGE has 121 unique values\n",
      "Column PREGNANT has 4 unique values\n",
      "Column DIABETES has 3 unique values\n",
      "Column COPD has 3 unique values\n",
      "Column ASTHMA has 3 unique values\n",
      "Column INMSUPR has 3 unique values\n",
      "Column HIPERTENSION has 3 unique values\n",
      "Column OTHER_DISEASE has 3 unique values\n",
      "Column CARDIOVASCULAR has 3 unique values\n",
      "Column OBESITY has 3 unique values\n",
      "Column RENAL_CHRONIC has 3 unique values\n",
      "Column TOBACCO has 3 unique values\n",
      "Column CLASIFFICATION_FINAL has 7 unique values\n",
      "Column ICU has 4 unique values\n"
     ]
    }
   ],
   "source": [
    "def print_unique(df):\n",
    "    for i in df.columns:\n",
    "        print(f'Column {i} has {df[i].nunique()} unique values')\n",
    "print_unique(df)"
   ]
  },
  {
   "cell_type": "code",
   "execution_count": 70,
   "id": "185e6258-fdce-4ca5-927e-93b836aadb35",
   "metadata": {
    "colab": {
     "base_uri": "https://localhost:8080/"
    },
    "id": "jFe2N-RBJQnV",
    "outputId": "8271f007-e94f-4a69-d142-41429708ac6a"
   },
   "outputs": [
    {
     "data": {
      "text/plain": [
       "Index(['INTUBED', 'PNEUMONIA', 'AGE', 'PREGNANT', 'ICU'], dtype='object')"
      ]
     },
     "execution_count": 70,
     "metadata": {},
     "output_type": "execute_result"
    }
   ],
   "source": [
    "# select the columns that contain nan values\n",
    "nan_columns = df.columns[df.isin([97,99]).any()]\n",
    "nan_columns"
   ]
  },
  {
   "cell_type": "code",
   "execution_count": 11,
   "id": "4e86f094-cf2d-4bd0-8902-65cea4642128",
   "metadata": {
    "colab": {
     "base_uri": "https://localhost:8080/",
     "height": 36
    },
    "id": "D9zEskGzIjre",
    "outputId": "f4e7f244-f6cb-4600-f266-4fd23717f1ed"
   },
   "outputs": [
    {
     "data": {
      "text/plain": [
       "'\\nKmean\\none-hot-encoding\\nnormalizer, standard, etc\\nPCA\\n'"
      ]
     },
     "execution_count": 11,
     "metadata": {},
     "output_type": "execute_result"
    }
   ],
   "source": [
    "'''\n",
    "Kmean\n",
    "one-hot-encoding\n",
    "normalizer, standard, etc\n",
    "PCA\n",
    "'''"
   ]
  },
  {
   "cell_type": "code",
   "execution_count": 106,
   "id": "5d6942b7-1274-48c7-aa3b-2a98a3896b20",
   "metadata": {
    "id": "wEDiW_Dj3Qs8"
   },
   "outputs": [],
   "source": [
    "def SOLVE(df):\n",
    "    for col in ['INTUBED', 'PNEUMONIA', 'PREGNANT', 'ICU']:\n",
    "        df[col].replace({97: 1 , 99 : 2},inplace=True)\n",
    "    df.loc[:,'CLASIFFICATION_FINAL'].replace({1 : 1, 2 : 1, 3 : 1, 4 : 0 , 5 : 0 , 6 : 0 , 7 : 0},inplace=True)\n",
    "    df[\"DEAD\"] = (df[\"DATE_DIED\"] == \"9999-99-99\").astype(int)\n",
    "    df.drop(columns=[\"DATE_DIED\"], inplace=True)\n",
    "    df = df[(df.PNEUMONIA == 1) | (df.PNEUMONIA == 2)]\n",
    "    df = df[(df.DIABETES == 1) | (df.DIABETES == 2)]\n",
    "    df = df[(df.COPD == 1) | (df.COPD == 2)]\n",
    "    df = df[(df.ASTHMA == 1) | (df.ASTHMA == 2)]\n",
    "    df = df[(df.INMSUPR == 1) | (df.INMSUPR == 2)]\n",
    "    df = df[(df.HIPERTENSION == 1) | (df.HIPERTENSION == 2)]\n",
    "    df = df[(df.OTHER_DISEASE == 1) | (df.OTHER_DISEASE == 2)]\n",
    "    df = df[(df.CARDIOVASCULAR == 1) | (df.CARDIOVASCULAR == 2)]\n",
    "    df = df[(df.OBESITY == 1) | (df.OBESITY == 2)]\n",
    "    df = df[(df.RENAL_CHRONIC == 1) | (df.RENAL_CHRONIC == 2)]\n",
    "    df = df[(df.TOBACCO == 1) | (df.TOBACCO == 2)]\n",
    "    \n",
    "    # df.drop_duplicates(inplace=True)\n",
    "    \n",
    "    # df.drop(columns=[\"INTUBED\",'PREGNANT'],inplace=True)\n",
    "    return df"
   ]
  },
  {
   "cell_type": "code",
   "execution_count": 107,
   "id": "08547e54-ff2f-414f-b71d-d91cc056e354",
   "metadata": {
    "id": "JbXUxVKw3lTT"
   },
   "outputs": [],
   "source": [
    "df_solved = SOLVE(df.copy())"
   ]
  },
  {
   "cell_type": "code",
   "execution_count": 108,
   "id": "978f13d8-4a5a-44be-8655-6680e8df3c5b",
   "metadata": {
    "colab": {
     "base_uri": "https://localhost:8080/"
    },
    "id": "oiv0yiz7ooWP",
    "outputId": "60bd0bd7-c6fa-41e0-89bf-8646ed7fb2cf"
   },
   "outputs": [
    {
     "data": {
      "text/plain": [
       "(1041013, 21)"
      ]
     },
     "execution_count": 108,
     "metadata": {},
     "output_type": "execute_result"
    }
   ],
   "source": [
    "df_solved.shape"
   ]
  },
  {
   "cell_type": "code",
   "execution_count": 109,
   "id": "7541fde1-cd87-423b-ad34-a3b2313ead28",
   "metadata": {
    "colab": {
     "base_uri": "https://localhost:8080/"
    },
    "id": "aS5XrfY8lCgP",
    "outputId": "854c61ef-44ca-4cd0-f880-54c0b653af82"
   },
   "outputs": [
    {
     "data": {
      "text/plain": [
       "Index(['USMER', 'MEDICAL_UNIT', 'SEX', 'PATIENT_TYPE', 'INTUBED', 'PNEUMONIA',\n",
       "       'AGE', 'PREGNANT', 'DIABETES', 'COPD', 'ASTHMA', 'INMSUPR',\n",
       "       'HIPERTENSION', 'OTHER_DISEASE', 'CARDIOVASCULAR', 'OBESITY',\n",
       "       'RENAL_CHRONIC', 'TOBACCO', 'CLASIFFICATION_FINAL', 'ICU', 'DEAD'],\n",
       "      dtype='object')"
      ]
     },
     "execution_count": 109,
     "metadata": {},
     "output_type": "execute_result"
    }
   ],
   "source": [
    "df_solved.columns"
   ]
  },
  {
   "cell_type": "code",
   "execution_count": 110,
   "id": "487d0742-3fed-40c3-9cce-955e73a07f16",
   "metadata": {
    "colab": {
     "base_uri": "https://localhost:8080/",
     "height": 696
    },
    "id": "w71dPmhJgfEB",
    "outputId": "ef628ee9-4f6c-49e5-ba7b-3d038edea4d9"
   },
   "outputs": [
    {
     "data": {
      "image/png": "[encoded data removed]",
      "text/plain": [
       "<Figure size 2000x1000 with 2 Axes>"
      ]
     },
     "metadata": {},
     "output_type": "display_data"
    }
   ],
   "source": [
    "plt.figure(figsize=(20,10))\n",
    "sns.heatmap(df_solved.corr(),annot=True)\n",
    "plt.show()"
   ]
  },
  {
   "cell_type": "code",
   "execution_count": 111,
   "id": "cc10c252-ebf2-4b68-9a74-d85fae33c88d",
   "metadata": {
    "colab": {
     "base_uri": "https://localhost:8080/"
    },
    "id": "Lmv2OJz-LYhC",
    "outputId": "630633ec-2780-4fb8-afab-f6158d3ac7b7"
   },
   "outputs": [
    {
     "data": {
      "text/plain": [
       "PATIENT_TYPE              2\n",
       "ICU                       2\n",
       "PNEUMONIA                 2\n",
       "AGE                     121\n",
       "ASTHMA                    2\n",
       "CLASIFFICATION_FINAL      2\n",
       "DEAD                      2\n",
       "dtype: int64"
      ]
     },
     "execution_count": 111,
     "metadata": {},
     "output_type": "execute_result"
    }
   ],
   "source": [
    "features = ['PATIENT_TYPE','ICU','PNEUMONIA','AGE','ASTHMA','CLASIFFICATION_FINAL','DEAD']\n",
    "df_solved[features].nunique()"
   ]
  },
  {
   "cell_type": "code",
   "execution_count": 112,
   "id": "5b60a954-78a3-4fa2-8f6a-e72e6784ee44",
   "metadata": {
    "colab": {
     "base_uri": "https://localhost:8080/",
     "height": 226
    },
    "id": "EDYVKn5H58gD",
    "outputId": "5e66cfdd-f847-4c7c-a80f-75d5398ece31"
   },
   "outputs": [
    {
     "data": {
      "text/html": [
       "<div>\n",
       "<style scoped>\n",
       "    .dataframe tbody tr th:only-of-type {\n",
       "        vertical-align: middle;\n",
       "    }\n",
       "\n",
       "    .dataframe tbody tr th {\n",
       "        vertical-align: top;\n",
       "    }\n",
       "\n",
       "    .dataframe thead th {\n",
       "        text-align: right;\n",
       "    }\n",
       "</style>\n",
       "<table border=\"1\" class=\"dataframe\">\n",
       "  <thead>\n",
       "    <tr style=\"text-align: right;\">\n",
       "      <th></th>\n",
       "      <th>USMER</th>\n",
       "      <th>MEDICAL_UNIT</th>\n",
       "      <th>SEX</th>\n",
       "      <th>PATIENT_TYPE</th>\n",
       "      <th>INTUBED</th>\n",
       "      <th>PNEUMONIA</th>\n",
       "      <th>AGE</th>\n",
       "      <th>PREGNANT</th>\n",
       "      <th>DIABETES</th>\n",
       "      <th>COPD</th>\n",
       "      <th>...</th>\n",
       "      <th>INMSUPR</th>\n",
       "      <th>HIPERTENSION</th>\n",
       "      <th>OTHER_DISEASE</th>\n",
       "      <th>CARDIOVASCULAR</th>\n",
       "      <th>OBESITY</th>\n",
       "      <th>RENAL_CHRONIC</th>\n",
       "      <th>TOBACCO</th>\n",
       "      <th>CLASIFFICATION_FINAL</th>\n",
       "      <th>ICU</th>\n",
       "      <th>DEAD</th>\n",
       "    </tr>\n",
       "  </thead>\n",
       "  <tbody>\n",
       "    <tr>\n",
       "      <th>0</th>\n",
       "      <td>2</td>\n",
       "      <td>1</td>\n",
       "      <td>1</td>\n",
       "      <td>1</td>\n",
       "      <td>1</td>\n",
       "      <td>1</td>\n",
       "      <td>65</td>\n",
       "      <td>2</td>\n",
       "      <td>2</td>\n",
       "      <td>2</td>\n",
       "      <td>...</td>\n",
       "      <td>2</td>\n",
       "      <td>1</td>\n",
       "      <td>2</td>\n",
       "      <td>2</td>\n",
       "      <td>2</td>\n",
       "      <td>2</td>\n",
       "      <td>2</td>\n",
       "      <td>1</td>\n",
       "      <td>1</td>\n",
       "      <td>0</td>\n",
       "    </tr>\n",
       "    <tr>\n",
       "      <th>1</th>\n",
       "      <td>2</td>\n",
       "      <td>1</td>\n",
       "      <td>2</td>\n",
       "      <td>1</td>\n",
       "      <td>1</td>\n",
       "      <td>1</td>\n",
       "      <td>72</td>\n",
       "      <td>1</td>\n",
       "      <td>2</td>\n",
       "      <td>2</td>\n",
       "      <td>...</td>\n",
       "      <td>2</td>\n",
       "      <td>1</td>\n",
       "      <td>2</td>\n",
       "      <td>2</td>\n",
       "      <td>1</td>\n",
       "      <td>1</td>\n",
       "      <td>2</td>\n",
       "      <td>0</td>\n",
       "      <td>1</td>\n",
       "      <td>0</td>\n",
       "    </tr>\n",
       "    <tr>\n",
       "      <th>2</th>\n",
       "      <td>2</td>\n",
       "      <td>1</td>\n",
       "      <td>2</td>\n",
       "      <td>2</td>\n",
       "      <td>1</td>\n",
       "      <td>2</td>\n",
       "      <td>55</td>\n",
       "      <td>1</td>\n",
       "      <td>1</td>\n",
       "      <td>2</td>\n",
       "      <td>...</td>\n",
       "      <td>2</td>\n",
       "      <td>2</td>\n",
       "      <td>2</td>\n",
       "      <td>2</td>\n",
       "      <td>2</td>\n",
       "      <td>2</td>\n",
       "      <td>2</td>\n",
       "      <td>1</td>\n",
       "      <td>2</td>\n",
       "      <td>0</td>\n",
       "    </tr>\n",
       "    <tr>\n",
       "      <th>3</th>\n",
       "      <td>2</td>\n",
       "      <td>1</td>\n",
       "      <td>1</td>\n",
       "      <td>1</td>\n",
       "      <td>1</td>\n",
       "      <td>2</td>\n",
       "      <td>53</td>\n",
       "      <td>2</td>\n",
       "      <td>2</td>\n",
       "      <td>2</td>\n",
       "      <td>...</td>\n",
       "      <td>2</td>\n",
       "      <td>2</td>\n",
       "      <td>2</td>\n",
       "      <td>2</td>\n",
       "      <td>2</td>\n",
       "      <td>2</td>\n",
       "      <td>2</td>\n",
       "      <td>0</td>\n",
       "      <td>1</td>\n",
       "      <td>0</td>\n",
       "    </tr>\n",
       "    <tr>\n",
       "      <th>4</th>\n",
       "      <td>2</td>\n",
       "      <td>1</td>\n",
       "      <td>2</td>\n",
       "      <td>1</td>\n",
       "      <td>1</td>\n",
       "      <td>2</td>\n",
       "      <td>68</td>\n",
       "      <td>1</td>\n",
       "      <td>1</td>\n",
       "      <td>2</td>\n",
       "      <td>...</td>\n",
       "      <td>2</td>\n",
       "      <td>1</td>\n",
       "      <td>2</td>\n",
       "      <td>2</td>\n",
       "      <td>2</td>\n",
       "      <td>2</td>\n",
       "      <td>2</td>\n",
       "      <td>1</td>\n",
       "      <td>1</td>\n",
       "      <td>0</td>\n",
       "    </tr>\n",
       "  </tbody>\n",
       "</table>\n",
       "<p>5 rows × 21 columns</p>\n",
       "</div>"
      ],
      "text/plain": [
       "   USMER  MEDICAL_UNIT  SEX  PATIENT_TYPE  INTUBED  PNEUMONIA  AGE  PREGNANT   \n",
       "0      2             1    1             1        1          1   65         2  \\\n",
       "1      2             1    2             1        1          1   72         1   \n",
       "2      2             1    2             2        1          2   55         1   \n",
       "3      2             1    1             1        1          2   53         2   \n",
       "4      2             1    2             1        1          2   68         1   \n",
       "\n",
       "   DIABETES  COPD  ...  INMSUPR  HIPERTENSION  OTHER_DISEASE  CARDIOVASCULAR   \n",
       "0         2     2  ...        2             1              2               2  \\\n",
       "1         2     2  ...        2             1              2               2   \n",
       "2         1     2  ...        2             2              2               2   \n",
       "3         2     2  ...        2             2              2               2   \n",
       "4         1     2  ...        2             1              2               2   \n",
       "\n",
       "   OBESITY  RENAL_CHRONIC  TOBACCO  CLASIFFICATION_FINAL  ICU  DEAD  \n",
       "0        2              2        2                     1    1     0  \n",
       "1        1              1        2                     0    1     0  \n",
       "2        2              2        2                     1    2     0  \n",
       "3        2              2        2                     0    1     0  \n",
       "4        2              2        2                     1    1     0  \n",
       "\n",
       "[5 rows x 21 columns]"
      ]
     },
     "execution_count": 112,
     "metadata": {},
     "output_type": "execute_result"
    }
   ],
   "source": [
    "df_solved.head()"
   ]
  },
  {
   "cell_type": "code",
   "execution_count": 115,
   "id": "e597d082-223e-4b24-9078-51a115cd86a2",
   "metadata": {},
   "outputs": [],
   "source": [
    "X = df_solved.drop(columns = ['CLASIFFICATION_FINAL']).values\n",
    "y = df_solved.CLASIFFICATION_FINAL.values#.reshape(-1, 1)"
   ]
  },
  {
   "cell_type": "code",
   "execution_count": 116,
   "id": "130a05a4-1429-4278-9650-b3608308c433",
   "metadata": {
    "id": "QksRxAODsTg4"
   },
   "outputs": [],
   "source": [
    "# Min max scaler\n",
    "from sklearn.preprocessing import MinMaxScaler\n",
    "scaler = MinMaxScaler()\n",
    "df_solved = scaler.fit_transform(X)"
   ]
  },
  {
   "cell_type": "code",
   "execution_count": 150,
   "id": "6f04f9bf-711a-4dca-ab0f-48404b07c6cb",
   "metadata": {
    "id": "ElDQieOTj895"
   },
   "outputs": [],
   "source": [
    "from sklearn.model_selection import train_test_split\n",
    "X_train, X_test, y_train, y_test = train_test_split(\n",
    "    X, \n",
    "    y, \n",
    "    test_size=0.2,\n",
    "    random_state=42\n",
    ")"
   ]
  },
  {
   "cell_type": "code",
   "execution_count": 151,
   "id": "8f0ec36a-0036-4ab7-bbb8-d0aece959ad7",
   "metadata": {
    "colab": {
     "base_uri": "https://localhost:8080/"
    },
    "id": "UzuhI54SlUms",
    "outputId": "cde6a5d2-208c-479e-c94c-cd905745240d"
   },
   "outputs": [
    {
     "data": {
      "text/plain": [
       "((832810, 20), (208203, 20), (832810,), (208203,))"
      ]
     },
     "execution_count": 151,
     "metadata": {},
     "output_type": "execute_result"
    }
   ],
   "source": [
    "X_train.shape, X_test.shape, y_train.shape, y_test.shape"
   ]
  },
  {
   "cell_type": "markdown",
   "id": "bf1d438b-6ddd-4695-ba21-0bd2d16a7f5c",
   "metadata": {
    "id": "jyr63cWdQ7IV"
   },
   "source": [
    "## Feature selection (PSO)."
   ]
  },
  {
   "cell_type": "markdown",
   "id": "4753e6df-0ecd-494c-a961-aa339a81e600",
   "metadata": {
    "id": "tyebHYOaRNMM"
   },
   "source": [
    "1. Define the Problem and Objective Function\n",
    ">The objective function could be the performance metric of a machine learning model (e.g., accuracy, F1-score) using a subset of features."
   ]
  },
  {
   "cell_type": "code",
   "execution_count": 126,
   "id": "b21a3529-9274-42b4-948b-d78f1be3178d",
   "metadata": {
    "id": "xhOggtn_QzQD"
   },
   "outputs": [],
   "source": [
    "# Objective function\n",
    "def objective_function(\n",
    "    selected_features : list[bool],\n",
    "    X = X_train, y = y_train,\n",
    "    X_test = X_test, y_test = y_test\n",
    "    ) -> float:\n",
    "    if np.sum(selected_features) == 0:\n",
    "        return 0  # Avoid empty feature subset\n",
    "    X_selected = X[:, selected_features == 1]\n",
    "    clf = GradientBoostingClassifier(n_estimators = 30, learning_rate=0.01)\n",
    "    clf.fit(X_selected, y)\n",
    "    y_pred = clf.predict(X_test[:, selected_features == 1])\n",
    "    return accuracy_score(y_test, y_pred)"
   ]
  },
  {
   "cell_type": "code",
   "execution_count": 127,
   "id": "245e1544-e9d9-46bd-b2bc-c049d58606de",
   "metadata": {},
   "outputs": [
    {
     "data": {
      "text/plain": [
       "0.6269218022795061"
      ]
     },
     "execution_count": 127,
     "metadata": {},
     "output_type": "execute_result"
    }
   ],
   "source": [
    "objective_function(np.ones(X_train.shape[1]))"
   ]
  },
  {
   "cell_type": "markdown",
   "id": "340511fe-bace-403a-aea3-a00686a6c20e",
   "metadata": {
    "id": "VTM_MN2ZSnjf"
   },
   "source": [
    "2. Encode Particles\n",
    "> Each particle represents a subset of features. This can be encoded as a binary vector where 1 means the feature is selected and 0 means it is not.\n",
    "\n",
    "3. Initialize Particles\n",
    "> Initialize particle positions (binary vectors) and velocities (continuous values).\n",
    "\n",
    "4. Evaluate Fitness\n",
    "> Evaluate the fitness of each particle by training and validating a machine learning model using the selected features."
   ]
  },
  {
   "cell_type": "code",
   "execution_count": 128,
   "id": "3f6ca463-41e9-48fd-9e67-9bce9dcbaa63",
   "metadata": {
    "colab": {
     "base_uri": "https://localhost:8080/"
    },
    "id": "yqm40ELjSoAX",
    "outputId": "94440c90-caa6-4769-c7af-f2793fbcfdc4"
   },
   "outputs": [
    {
     "name": "stderr",
     "output_type": "stream",
     "text": [
      "100%|████████████████████████████████████████████████████████████████████████████████████████████████| 6/6 [01:41<00:00, 16.97s/it]\n"
     ]
    }
   ],
   "source": [
    "# Parameters\n",
    "num_particles = 6\n",
    "dimensions = X_train.shape[1]\n",
    "max_iter = 10\n",
    "c1 = 2.0\n",
    "c2 = 2.0\n",
    "w = 0.7\n",
    "w_decay = 0.99\n",
    "\n",
    "# Initialize particle positions and velocities\n",
    "particles_position = np.random.randint(2, size=(num_particles, dimensions))\n",
    "particles_velocity = np.random.uniform(low=-1, high=1, size=(num_particles, dimensions))\n",
    "pBest_position = np.copy(particles_position)\n",
    "pBest_value = np.array([objective_function(p) for p in tqdm(particles_position)])\n",
    "gBest_position = pBest_position[np.argmax(pBest_value)]\n",
    "gBest_value = np.max(pBest_value)\n"
   ]
  },
  {
   "cell_type": "code",
   "execution_count": 129,
   "id": "9a890924-3882-4d08-89fb-696018592f21",
   "metadata": {
    "colab": {
     "base_uri": "https://localhost:8080/"
    },
    "id": "bWsjFcW7agfV",
    "outputId": "c2f76db4-44b6-4325-9c19-0ddce1d78aa3"
   },
   "outputs": [
    {
     "name": "stdout",
     "output_type": "stream",
     "text": [
      "Best selected features vector: [1 0 1 0 1 0 1 1 0 1 0 0 0 0 1 1 1 0 0 1]\n",
      "Accuracy of best selected features vector: 0.627\n"
     ]
    }
   ],
   "source": [
    "print(f\"Best selected features vector: {particles_position[np.argmax(pBest_value)]}\")\n",
    "print(f\"Accuracy of best selected features vector: {gBest_value :0.3f}\")"
   ]
  },
  {
   "cell_type": "markdown",
   "id": "6c1c435f-9a53-4593-9ca7-f16e29030be6",
   "metadata": {
    "id": "beoRShXWcBsf"
   },
   "source": [
    "5. Update Velocities and Positions\n",
    "> Update velocities and positions using PSO equations. Use a sigmoid function to convert continuous velocities into binary positions.\n",
    "\n",
    "6. Update Personal and Global Bests\n",
    "> Update the personal best positions and the global best position based on the fitness evaluations.\n",
    "\n",
    "7. Iterate\n",
    "> Repeat the update steps until the stopping criterion is met.\n",
    "\n",
    "8. Return the Best Feature Subset\n",
    "> Return the best feature subset found during the iterations."
   ]
  },
  {
   "cell_type": "code",
   "execution_count": 130,
   "id": "31956d30-3215-45ec-a08c-1cf88239be3f",
   "metadata": {
    "colab": {
     "base_uri": "https://localhost:8080/"
    },
    "id": "Umu9VhJBTbk0",
    "outputId": "04af611c-1fe9-4e7a-cad0-78c5e9ebc6cd"
   },
   "outputs": [
    {
     "name": "stderr",
     "output_type": "stream",
     "text": [
      "100%|████████████████████████████████████████████████████████████████████████████████████████████████| 6/6 [02:09<00:00, 21.58s/it]\n"
     ]
    },
    {
     "name": "stdout",
     "output_type": "stream",
     "text": [
      "Iteration 1/10, Global Best Value: 0.627\n"
     ]
    },
    {
     "name": "stderr",
     "output_type": "stream",
     "text": [
      "100%|████████████████████████████████████████████████████████████████████████████████████████████████| 6/6 [01:56<00:00, 19.49s/it]\n"
     ]
    },
    {
     "name": "stdout",
     "output_type": "stream",
     "text": [
      "Iteration 2/10, Global Best Value: 0.627\n"
     ]
    },
    {
     "name": "stderr",
     "output_type": "stream",
     "text": [
      "100%|████████████████████████████████████████████████████████████████████████████████████████████████| 6/6 [01:46<00:00, 17.69s/it]\n"
     ]
    },
    {
     "name": "stdout",
     "output_type": "stream",
     "text": [
      "Iteration 3/10, Global Best Value: 0.627\n"
     ]
    },
    {
     "name": "stderr",
     "output_type": "stream",
     "text": [
      "100%|████████████████████████████████████████████████████████████████████████████████████████████████| 6/6 [01:57<00:00, 19.61s/it]\n"
     ]
    },
    {
     "name": "stdout",
     "output_type": "stream",
     "text": [
      "Iteration 4/10, Global Best Value: 0.627\n"
     ]
    },
    {
     "name": "stderr",
     "output_type": "stream",
     "text": [
      "100%|████████████████████████████████████████████████████████████████████████████████████████████████| 6/6 [02:20<00:00, 23.38s/it]\n"
     ]
    },
    {
     "name": "stdout",
     "output_type": "stream",
     "text": [
      "Iteration 5/10, Global Best Value: 0.627\n"
     ]
    },
    {
     "name": "stderr",
     "output_type": "stream",
     "text": [
      "100%|████████████████████████████████████████████████████████████████████████████████████████████████| 6/6 [01:36<00:00, 16.09s/it]\n"
     ]
    },
    {
     "name": "stdout",
     "output_type": "stream",
     "text": [
      "Iteration 6/10, Global Best Value: 0.627\n"
     ]
    },
    {
     "name": "stderr",
     "output_type": "stream",
     "text": [
      "100%|████████████████████████████████████████████████████████████████████████████████████████████████| 6/6 [02:01<00:00, 20.32s/it]\n"
     ]
    },
    {
     "name": "stdout",
     "output_type": "stream",
     "text": [
      "Iteration 7/10, Global Best Value: 0.627\n"
     ]
    },
    {
     "name": "stderr",
     "output_type": "stream",
     "text": [
      "100%|████████████████████████████████████████████████████████████████████████████████████████████████| 6/6 [02:03<00:00, 20.54s/it]\n"
     ]
    },
    {
     "name": "stdout",
     "output_type": "stream",
     "text": [
      "Iteration 8/10, Global Best Value: 0.627\n"
     ]
    },
    {
     "name": "stderr",
     "output_type": "stream",
     "text": [
      "100%|████████████████████████████████████████████████████████████████████████████████████████████████| 6/6 [01:50<00:00, 18.36s/it]\n"
     ]
    },
    {
     "name": "stdout",
     "output_type": "stream",
     "text": [
      "Iteration 9/10, Global Best Value: 0.627\n"
     ]
    },
    {
     "name": "stderr",
     "output_type": "stream",
     "text": [
      "100%|████████████████████████████████████████████████████████████████████████████████████████████████| 6/6 [02:09<00:00, 21.66s/it]"
     ]
    },
    {
     "name": "stdout",
     "output_type": "stream",
     "text": [
      "Iteration 10/10, Global Best Value: 0.627\n"
     ]
    },
    {
     "name": "stderr",
     "output_type": "stream",
     "text": [
      "\n"
     ]
    }
   ],
   "source": [
    "# PSO main loop\n",
    "for t in range(max_iter):\n",
    "    for i in tqdm(range(num_particles)):\n",
    "        # Update velocities\n",
    "        r1 = np.random.rand(dimensions)\n",
    "        r2 = np.random.rand(dimensions)\n",
    "        particles_velocity[i] = (\n",
    "            w * particles_velocity[i] +\n",
    "            c1 * r1 * (pBest_position[i] - particles_position[i]) +\n",
    "            c2 * r2 * (gBest_position - particles_position[i])\n",
    "        )\n",
    "\n",
    "        # Update positions using sigmoid function\n",
    "        sigmoid = 1 / (1 + np.exp(-particles_velocity[i]))\n",
    "        particles_position[i] = np.where(np.random.rand(dimensions) < sigmoid, 1, 0)\n",
    "\n",
    "        # Evaluate fitness\n",
    "        fitness = objective_function(particles_position[i])\n",
    "\n",
    "        # Update personal best\n",
    "        if fitness > pBest_value[i]:\n",
    "            pBest_position[i] = particles_position[i]\n",
    "            pBest_value[i] = fitness\n",
    "\n",
    "    # Update global best\n",
    "    if np.max(pBest_value) > gBest_value:\n",
    "        gBest_position = pBest_position[np.argmax(pBest_value)]\n",
    "        gBest_value = np.max(pBest_value)\n",
    "\n",
    "    # Decay inertia weight\n",
    "    w *= w_decay\n",
    "\n",
    "    # Print progress\n",
    "    print(f\"Iteration {t+1}/{max_iter}, Global Best Value: {gBest_value:0.3f}\")\n"
   ]
  },
  {
   "cell_type": "code",
   "execution_count": 131,
   "id": "c166064d-5482-45c9-b2f0-a3b310c38041",
   "metadata": {
    "colab": {
     "base_uri": "https://localhost:8080/"
    },
    "id": "-FTv-bPyap38",
    "outputId": "83680bbc-4d0c-402d-f9e9-b765d5ad8d48"
   },
   "outputs": [
    {
     "name": "stdout",
     "output_type": "stream",
     "text": [
      "Best feature subset: [1 0 1 0 1 0 1 1 0 1 0 0 0 0 1 1 1 0 0 1]\n",
      "Best accuracy: 0.6269218022795061\n"
     ]
    }
   ],
   "source": [
    "# Results\n",
    "print(\"Best feature subset:\", gBest_position)\n",
    "print(\"Best accuracy:\", gBest_value)"
   ]
  },
  {
   "cell_type": "code",
   "execution_count": 132,
   "id": "6c8f586d-8191-486b-8122-370661915b2c",
   "metadata": {
    "colab": {
     "base_uri": "https://localhost:8080/"
    },
    "id": "pq6CjOz4csWi",
    "outputId": "96a6523d-f0d4-4be7-cbdd-ed29ce5603b8"
   },
   "outputs": [
    {
     "name": "stdout",
     "output_type": "stream",
     "text": [
      "Selected columns are:\n",
      "USMER\n",
      "SEX\n",
      "DATE_DIED\n",
      "PNEUMONIA\n",
      "AGE\n",
      "DIABETES\n",
      "OTHER_DISEASE\n",
      "CARDIOVASCULAR\n",
      "OBESITY\n",
      "ICU\n",
      "\n",
      "Not selected columns are:\n",
      "MEDICAL_UNIT\n",
      "PATIENT_TYPE\n",
      "INTUBED\n",
      "PREGNANT\n",
      "COPD\n",
      "ASTHMA\n",
      "INMSUPR\n",
      "HIPERTENSION\n",
      "RENAL_CHRONIC\n",
      "TOBACCO\n"
     ]
    }
   ],
   "source": [
    "selected_cols = covid_df.drop(columns = ['CLASIFFICATION_FINAL']).columns[np.array(gBest_position).astype(bool)]\n",
    "\n",
    "print(\"Selected columns are:\", *selected_cols.values, sep=\"\\n\")\n",
    "\n",
    "not_selected_cols = covid_df.drop(columns = ['CLASIFFICATION_FINAL']).columns[~np.array(gBest_position).astype(bool)]\n",
    "print(\"\\nNot selected columns are:\", *not_selected_cols.values, sep=\"\\n\")"
   ]
  },
  {
   "cell_type": "code",
   "execution_count": 152,
   "id": "1736a960-5b86-4d36-8616-4505307774ec",
   "metadata": {},
   "outputs": [
    {
     "data": {
      "text/plain": [
       "((832810, 10), (208203, 10), (832810,), (208203,))"
      ]
     },
     "execution_count": 152,
     "metadata": {},
     "output_type": "execute_result"
    }
   ],
   "source": [
    "X_train = X_train[:,np.array(gBest_position).astype(np.bool_)]\n",
    "X_test = X_test[:,np.array(gBest_position).astype(np.bool_)]\n",
    "\n",
    "X_train.shape, X_test.shape, y_train.shape, y_test.shape"
   ]
  },
  {
   "cell_type": "markdown",
   "id": "a0ccc841-dd68-46e0-b34a-ab3ec51e300f",
   "metadata": {},
   "source": [
    "## To implement Linear Discriminant Analysis (LDA) from scratch, we need to follow these steps:\n",
    "\n",
    "1. Compute the mean vectors for each class.\n",
    "2. Compute the within-class scatter matrix.\n",
    "3. Compute the between-class scatter matrix.\n",
    "4. Compute the eigenvectors and eigenvalues of the matrix (S_w^-1 * S_b).\n",
    "5. Choose the k eigenvectors that correspond to the k largest eigenvalues to form the projection matrix W.\n",
    "6. Project the samples onto the new feature subspace."
   ]
  },
  {
   "cell_type": "markdown",
   "id": "f51cefb2-e302-4e84-af91-bba686455c49",
   "metadata": {},
   "source": [
    "### Linear Discriminant Analysis (LDA) Equations:\n",
    "\n",
    "#### Within-Class Scatter Matrix:\n",
    "\\[ S_W = sum_{c=1}^{C} sum_{i=1}^{n_c} (x_i^c - m_c)(x_i^c - m_c)^T \\]\n",
    "where:\n",
    "- \\( c \\) is the class label.\n",
    "- \\( n_c \\) is the number of samples in class \\( c \\).\n",
    "- \\( x_i^c \\) is the \\( i \\)-th sample in class \\( c \\).\n",
    "- \\( m_c \\) is the mean vector of class \\( c \\) samples.\n",
    "\n",
    "#### Between-Class Scatter Matrix:\n",
    "\\[ S_B = \\sum_{c=1}^{C} n_c (m_c - m)(m_c - m)^T \\]\n",
    "where:\n",
    "- \\( m \\) is the overall mean vector of all samples.\n",
    "\n",
    "#### Solving Eigenvalue Problem:\n",
    "\\[ S_W^{-1} S_B w = \\lambda w \\]\n",
    "where:\n",
    "- \\( w \\) is the eigenvector corresponding to the largest eigenvalue \\( \\lambda \\)."
   ]
  },
  {
   "cell_type": "code",
   "execution_count": 169,
   "id": "8d6f7817-9b65-4854-bdf7-4a4c0f3eecba",
   "metadata": {},
   "outputs": [],
   "source": [
    "class LinearDiscriminantAnalysis:\n",
    "    def __init__(self):\n",
    "        self.W = None\n",
    "        \n",
    "    def fit(self, X, y, k=5):\n",
    "        # Compute class means\n",
    "        self.class_means = {}\n",
    "        for c in np.unique(y):\n",
    "            self.class_means[c] = np.mean(X[y == c], axis=0)\n",
    "        \n",
    "        # Compute within-class scatter matrix\n",
    "        self.S_w = np.zeros((X.shape[1], X.shape[1]))\n",
    "        for c in self.class_means.keys():\n",
    "            class_scatter = np.zeros((X.shape[1], X.shape[1]))\n",
    "            for x in X[y == c]:\n",
    "                x, mean = x.reshape(-1, 1), self.class_means[c].reshape(-1, 1)\n",
    "                class_scatter += (x - mean).dot((x - mean).T)\n",
    "            self.S_w += class_scatter\n",
    "        \n",
    "        # Compute between-class scatter matrix\n",
    "        overall_mean = np.mean(X, axis=0).reshape(-1, 1)\n",
    "        self.S_b = np.zeros((X.shape[1], X.shape[1]))\n",
    "        for c in self.class_means.keys():\n",
    "            n = X[y == c].shape[0]\n",
    "            class_mean = self.class_means[c].reshape(-1, 1)\n",
    "            self.S_b += n * (class_mean - overall_mean).dot((class_mean - overall_mean).T)\n",
    "        \n",
    "        # Compute eigenvalues and eigenvectors of (S_w^-1 * S_b)\n",
    "        eig_vals, eig_vecs = np.linalg.eig(np.linalg.inv(self.S_w).dot(self.S_b))\n",
    "        \n",
    "        # Choose k eigenvectors corresponding to k largest eigenvalues\n",
    "        self.W = eig_vecs[:, np.argsort(eig_vals)[::-1][:k]]\n",
    "        \n",
    "    def transform(self, X):\n",
    "        # Transform data using LDA and return only the real part\n",
    "        return np.real(np.dot(X, self.W))"
   ]
  },
  {
   "cell_type": "code",
   "execution_count": 170,
   "id": "d1677b2b-e15c-4fb1-8ca5-368ef0a2c10f",
   "metadata": {},
   "outputs": [
    {
     "name": "stdout",
     "output_type": "stream",
     "text": [
      "(832810, 5)\n"
     ]
    }
   ],
   "source": [
    "# Apply LDA\n",
    "lda = LinearDiscriminantAnalysis()\n",
    "lda.fit(X_train, y_train)\n",
    "X_train_lda = lda.transform(X_train)\n",
    "X_test_lda = lda.transform(X_test)\n",
    "\n",
    "print(X_train_lda.shape)"
   ]
  },
  {
   "cell_type": "code",
   "execution_count": 171,
   "id": "311b696f-b61b-4bf4-9e6f-a4e60a818c72",
   "metadata": {},
   "outputs": [],
   "source": [
    "# Feature selection using Random Forest feature importance\n",
    "rf = RandomForestClassifier(n_estimators=100, random_state=42)\n",
    "knn = KNeighborsClassifier(n_neighbors=3)\n",
    "\n",
    "rf.fit(X_train_lda, y_train)\n",
    "knn.fit(X_train_lda, y_train)\n",
    "\n",
    "# Predict the labels\n",
    "y_pred_knn = knn.predict(X_test_lda)\n",
    "y_pred_rf = rf.predict(X_test_lda)"
   ]
  },
  {
   "cell_type": "code",
   "execution_count": 172,
   "id": "cc97b258-888b-4366-9be8-be9012a11a0a",
   "metadata": {},
   "outputs": [
    {
     "name": "stdout",
     "output_type": "stream",
     "text": [
      "Accuracy: 0.5985696651825382\n",
      "Classification Report:\n",
      "               precision    recall  f1-score   support\n",
      "\n",
      "           0       0.66      0.73      0.70    130527\n",
      "           1       0.45      0.38      0.41     77676\n",
      "\n",
      "    accuracy                           0.60    208203\n",
      "   macro avg       0.56      0.55      0.55    208203\n",
      "weighted avg       0.59      0.60      0.59    208203\n",
      "\n"
     ]
    }
   ],
   "source": [
    "# Evaluate the performance\n",
    "print('Accuracy:', accuracy_score(y_test, y_pred_knn))\n",
    "print('Classification Report:\\n', classification_report(y_test, y_pred_knn))"
   ]
  },
  {
   "cell_type": "code",
   "execution_count": 173,
   "id": "91cff5da-6233-4d8f-8a07-d4cd78b2312a",
   "metadata": {},
   "outputs": [
    {
     "name": "stdout",
     "output_type": "stream",
     "text": [
      "Accuracy: 0.6635543195823307\n",
      "Classification Report:\n",
      "               precision    recall  f1-score   support\n",
      "\n",
      "           0       0.67      0.91      0.77    130527\n",
      "           1       0.63      0.24      0.35     77676\n",
      "\n",
      "    accuracy                           0.66    208203\n",
      "   macro avg       0.65      0.58      0.56    208203\n",
      "weighted avg       0.65      0.66      0.61    208203\n",
      "\n"
     ]
    }
   ],
   "source": [
    "# Evaluate the performance\n",
    "print('Accuracy:', accuracy_score(y_test, y_pred_rf))\n",
    "print('Classification Report:\\n', classification_report(y_test, y_pred_rf))"
   ]
  },
  {
   "cell_type": "code",
   "execution_count": 182,
   "id": "61ad5ffe-0036-448a-b4b1-ccf8738ff34b",
   "metadata": {
    "colab": {
     "base_uri": "https://localhost:8080/"
    },
    "id": "ojwTtcPAFwrj",
    "outputId": "d984114f-597a-47c9-9cc4-c6ade30fff30"
   },
   "outputs": [
    {
     "name": "stdout",
     "output_type": "stream",
     "text": [
      "Accuracy: 0.6664841524857951\n",
      "Classification Report:\n",
      "               precision    recall  f1-score   support\n",
      "\n",
      "           0       0.67      0.92      0.78    130527\n",
      "           1       0.64      0.24      0.35     77676\n",
      "\n",
      "    accuracy                           0.67    208203\n",
      "   macro avg       0.66      0.58      0.56    208203\n",
      "weighted avg       0.66      0.67      0.62    208203\n",
      "\n"
     ]
    }
   ],
   "source": [
    "# logistic\n",
    "model4 = LogisticRegression(random_state=42)\n",
    "model4.fit(X_train_lda,y_train)\n",
    "y_pred4 = model4.predict(X_test_lda)\n",
    "\n",
    "accuracy4 = accuracy_score(y_test, y_pred4)\n",
    "print(f\"Accuracy: {accuracy4}\")\n",
    "\n",
    "print('Classification Report:\\n', classification_report(y_test, y_pred4))\n",
    "\n",
    "\n",
    "# f1 = f1_score(y_test, y_pred4)\n",
    "# print(f\"F1 score: {f1}\")\n",
    "# recall = recall_score(y_test, y_pred4)\n",
    "# print(f\"Recall score: {recall}\")\n",
    "# precision = precision_score(y_test, y_pred4)\n",
    "# print(f\"Precision score: {precision}\")\n",
    "# print(\"Logistic F1 Score : \", f1_score(y_test, y_pred4,average=None))\n"
   ]
  },
  {
   "cell_type": "code",
   "execution_count": 185,
   "id": "e7628af8-2168-4906-a31d-0f8a88c272b8",
   "metadata": {
    "colab": {
     "base_uri": "https://localhost:8080/"
    },
    "id": "mbXuZRsPJjn8",
    "outputId": "cb3d1fb4-36c1-4a23-c8ec-9a4b0f4699ae"
   },
   "outputs": [
    {
     "name": "stdout",
     "output_type": "stream",
     "text": [
      "Accuracy: 0.6635543195823307\n",
      "Classification Report:\n",
      "               precision    recall  f1-score   support\n",
      "\n",
      "           0       0.67      0.91      0.77    130527\n",
      "           1       0.63      0.24      0.35     77676\n",
      "\n",
      "    accuracy                           0.66    208203\n",
      "   macro avg       0.65      0.58      0.56    208203\n",
      "weighted avg       0.65      0.66      0.61    208203\n",
      "\n"
     ]
    }
   ],
   "source": [
    "# randomforest\n",
    "model1 = RandomForestClassifier(random_state=42)\n",
    "model1.fit(X_train_lda,y_train)\n",
    "y_pred1 = model1.predict(X_test_lda)\n",
    "\n",
    "accuracy1 = accuracy_score(y_test, y_pred1)\n",
    "print(f\"Accuracy: {accuracy1}\")\n",
    "\n",
    "print('Classification Report:\\n', classification_report(y_test, y_pred1))\n",
    "\n",
    "# f1 = f1_score(y_test, y_pred1)\n",
    "# print(f\"F1 score: {f1}\")\n",
    "# recall = recall_score(y_test, y_pred1)\n",
    "# print(f\"Recall score: {recall}\")\n",
    "# precision = precision_score(y_test, y_pred1)\n",
    "# print(f\"Precision score: {precision}\")\n",
    "# print(\"Random Forest F1 Score : \", f1_score(y_test, y_pred1,average=None))\n"
   ]
  },
  {
   "cell_type": "code",
   "execution_count": 183,
   "id": "0d3afe02-2b63-4b8c-9265-f6c3bbf813de",
   "metadata": {
    "colab": {
     "base_uri": "https://localhost:8080/"
    },
    "id": "dncoWv6EJnxb",
    "outputId": "20c5e158-bff8-4ce2-967e-2af5e234782f"
   },
   "outputs": [
    {
     "name": "stdout",
     "output_type": "stream",
     "text": [
      "Accuracy: 0.6532182533392891\n",
      "Classification Report:\n",
      "               precision    recall  f1-score   support\n",
      "\n",
      "           0       0.67      0.90      0.76    130527\n",
      "           1       0.59      0.24      0.34     77676\n",
      "\n",
      "    accuracy                           0.65    208203\n",
      "   macro avg       0.63      0.57      0.55    208203\n",
      "weighted avg       0.64      0.65      0.61    208203\n",
      "\n"
     ]
    }
   ],
   "source": [
    "# naive bayes\n",
    "model3 = GaussianNB()\n",
    "model3.fit(X_train_lda,y_train)\n",
    "y_pred3 = model3.predict(X_test_lda)\n",
    "\n",
    "accuracy3 = accuracy_score(y_test, y_pred3)\n",
    "print(f\"Accuracy: {accuracy3}\")\n",
    "\n",
    "print('Classification Report:\\n', classification_report(y_test, y_pred3))\n",
    "\n",
    "# f1 = f1_score(y_test, y_pred3)\n",
    "# print(f\"F1 score: {f1}\")\n",
    "# recall = recall_score(y_test, y_pred3)\n",
    "# print(f\"Recall score: {recall}\")\n",
    "# precision = precision_score(y_test, y_pred3)\n",
    "# print(f\"Precision score: {precision}\")\n",
    "# print(\"Naive Bayes F1 Score : \", f1_score(y_test, y_pred3,average=None))\n"
   ]
  },
  {
   "cell_type": "code",
   "execution_count": 184,
   "id": "ee29a77e-6d30-48d8-8ccb-702f7ec79fee",
   "metadata": {
    "colab": {
     "base_uri": "https://localhost:8080/"
    },
    "id": "zxL1y-D-JrGS",
    "outputId": "a2f2c63d-b73a-4b75-da45-41b6efd8b7ec"
   },
   "outputs": [
    {
     "name": "stdout",
     "output_type": "stream",
     "text": [
      "Accuracy: 0.6664841524857951\n",
      "Classification Report:\n",
      "               precision    recall  f1-score   support\n",
      "\n",
      "           0       0.67      0.92      0.78    130527\n",
      "           1       0.64      0.24      0.35     77676\n",
      "\n",
      "    accuracy                           0.67    208203\n",
      "   macro avg       0.66      0.58      0.56    208203\n",
      "weighted avg       0.66      0.67      0.62    208203\n",
      "\n"
     ]
    }
   ],
   "source": [
    "# xgboost\n",
    "model4 = GradientBoostingClassifier(random_state=42)\n",
    "model4.fit(X_train_lda,y_train)\n",
    "y_pred4 = model4.predict(X_test_lda)\n",
    "\n",
    "accuracy4 = accuracy_score(y_test, y_pred4)\n",
    "print(f\"Accuracy: {accuracy4}\")\n",
    "\n",
    "print('Classification Report:\\n', classification_report(y_test, y_pred4))\n",
    "\n",
    "# f1 = f1_score(y_test, y_pred4)\n",
    "# print(f\"F1 score: {f1}\")\n",
    "# recall = recall_score(y_test, y_pred4)\n",
    "# print(f\"Recall score: {recall}\")\n",
    "# precision = precision_score(y_test, y_pred4)\n",
    "# print(f\"Precision score: {precision}\")\n",
    "# print(\"XGBoost F1 Score : \", f1_score(y_test, y_pred4,average=None))\n"
   ]
  },
  {
   "cell_type": "code",
   "execution_count": 190,
   "id": "7d7be2d8-f6af-4cd9-ac37-40968bb319a8",
   "metadata": {},
   "outputs": [
    {
     "name": "stdout",
     "output_type": "stream",
     "text": [
      "Accuracy: 0.6669164229141751\n",
      "Classification Report:\n",
      "               precision    recall  f1-score   support\n",
      "\n",
      "           0       0.67      0.92      0.78    130527\n",
      "           1       0.65      0.24      0.35     77676\n",
      "\n",
      "    accuracy                           0.67    208203\n",
      "   macro avg       0.66      0.58      0.56    208203\n",
      "weighted avg       0.66      0.67      0.62    208203\n",
      "\n"
     ]
    }
   ],
   "source": [
    "import xgboost as xgb\n",
    "\n",
    "dtrain = xgb.DMatrix(X_train, label=y_train)\n",
    "dtest = xgb.DMatrix(X_test, label=y_test)\n",
    "\n",
    "params = {\n",
    "    'max_depth': 3,\n",
    "    'eta': 0.1,\n",
    "    'objective': 'binary:logistic',\n",
    "    'eval_metric': 'logloss'\n",
    "}\n",
    "\n",
    "num_rounds = 100\n",
    "bst = xgb.train(params, dtrain, num_rounds)\n",
    "\n",
    "preds = bst.predict(dtest)\n",
    "predictions = [round(value) for value in preds]\n",
    "\n",
    "accuracy6 = accuracy_score(y_test, predictions)\n",
    "print(f\"Accuracy: {accuracy6}\")\n",
    "\n",
    "print('Classification Report:\\n', classification_report(y_test, predictions))"
   ]
  },
  {
   "cell_type": "code",
   "execution_count": null,
   "id": "b22c1d27-e60f-4d88-8059-5d66b891c89b",
   "metadata": {},
   "outputs": [],
   "source": []
  }
 ],
 "metadata": {
  "kernelspec": {
   "display_name": "Python 3 (ipykernel)",
   "language": "python",
   "name": "python3"
  },
  "language_info": {
   "codemirror_mode": {
    "name": "ipython",
    "version": 3
   },
   "file_extension": ".py",
   "mimetype": "text/x-python",
   "name": "python",
   "nbconvert_exporter": "python",
   "pygments_lexer": "ipython3",
   "version": "3.10.11"
  }
 },
 "nbformat": 4,
 "nbformat_minor": 5
}
